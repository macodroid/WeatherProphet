{
 "cells": [
  {
   "cell_type": "code",
   "execution_count": 5,
   "metadata": {
    "collapsed": true
   },
   "outputs": [],
   "source": [
    "import pandas as pd\n",
    "import numpy as np\n",
    "from matplotlib import pyplot as plt"
   ]
  },
  {
   "cell_type": "code",
   "execution_count": 6,
   "outputs": [
    {
     "data": {
      "text/plain": "Date     object\nT       float64\nP0      float64\nP       float64\nU       float64\nFf      float64\ndtype: object"
     },
     "execution_count": 6,
     "metadata": {},
     "output_type": "execute_result"
    }
   ],
   "source": [
    "ba_weather = pd.read_csv(\"dataset/BA_weather_dataset_copy.csv\")\n",
    "ba_weather.dtypes"
   ],
   "metadata": {
    "collapsed": false
   }
  },
  {
   "cell_type": "code",
   "execution_count": 7,
   "outputs": [
    {
     "data": {
      "text/plain": "Date     0\nT       17\nP0      18\nP        1\nU       18\nFf       5\ndtype: int64"
     },
     "execution_count": 7,
     "metadata": {},
     "output_type": "execute_result"
    }
   ],
   "source": [
    "ba_weather.isnull().sum()"
   ],
   "metadata": {
    "collapsed": false
   }
  },
  {
   "cell_type": "code",
   "execution_count": 8,
   "outputs": [
    {
     "name": "stdout",
     "output_type": "stream",
     "text": [
      "                    Date     T     P0      P     U    Ff\n",
      "247     31.12.2022 18:30   6.0  756.1  768.1  93.0   NaN\n",
      "607     24.12.2022 05:30   NaN    NaN  757.7   NaN   3.0\n",
      "60925   27.07.2019 11:30   NaN    NaN  754.6   NaN   7.0\n",
      "60926   27.07.2019 11:08   NaN    NaN  755.4   NaN   7.0\n",
      "60927   27.07.2019 11:00   NaN    NaN  755.4   NaN   5.0\n",
      "60928   27.07.2019 10:30   NaN    NaN  755.4   NaN   5.0\n",
      "60929   27.07.2019 10:17   NaN    NaN  755.4   NaN   6.0\n",
      "60930   27.07.2019 10:08   NaN    NaN  756.2   NaN  14.0\n",
      "78792   01.08.2018 15:30   NaN    NaN  762.8   NaN   8.0\n",
      "80118   05.07.2018 18:11   NaN    NaN  758.2   NaN   4.0\n",
      "80119   05.07.2018 18:00   NaN    NaN  757.7   NaN  12.0\n",
      "81591   05.06.2018 12:30   NaN    NaN  756.2   NaN   3.0\n",
      "81593   05.06.2018 12:00   NaN    NaN  756.9   NaN   3.0\n",
      "81594   05.06.2018 11:45   NaN    NaN  756.9   NaN   3.0\n",
      "81595   05.06.2018 11:42   NaN    NaN  756.9   NaN   4.0\n",
      "81596   05.06.2018 11:30   NaN    NaN  756.2   NaN   8.0\n",
      "82935   08.05.2018 17:02   NaN    NaN  757.7   NaN   4.0\n",
      "82936   08.05.2018 17:00   NaN    NaN  756.9   NaN   8.0\n",
      "106428  20.01.2017 15:00  -5.0  740.0  752.3  74.0   NaN\n",
      "106835  12.01.2017 12:00  -5.0  748.1  760.5   NaN   1.0\n",
      "131342  23.04.2015 02:30   6.0    NaN    NaN  76.0   NaN\n",
      "143943  08.07.2014 06:30  21.0  746.4  757.7  88.0   NaN\n",
      "143944  08.07.2014 06:00  20.0  746.4  757.7  88.0   NaN\n"
     ]
    }
   ],
   "source": [
    "print(ba_weather.loc[ba_weather.isna().any(axis=1)])"
   ],
   "metadata": {
    "collapsed": false
   }
  },
  {
   "cell_type": "code",
   "execution_count": 9,
   "outputs": [],
   "source": [
    "ba_weather.dropna(axis=0, inplace=True)"
   ],
   "metadata": {
    "collapsed": false
   }
  }
 ],
 "metadata": {
  "kernelspec": {
   "display_name": "Python 3",
   "language": "python",
   "name": "python3"
  },
  "language_info": {
   "codemirror_mode": {
    "name": "ipython",
    "version": 2
   },
   "file_extension": ".py",
   "mimetype": "text/x-python",
   "name": "python",
   "nbconvert_exporter": "python",
   "pygments_lexer": "ipython2",
   "version": "2.7.6"
  }
 },
 "nbformat": 4,
 "nbformat_minor": 0
}
