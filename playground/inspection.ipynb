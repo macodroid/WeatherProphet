{
 "cells": [
  {
   "cell_type": "code",
   "execution_count": 1,
   "metadata": {},
   "outputs": [],
   "source": [
    "import numpy as np\n",
    "import pandas as pd\n",
    "from data_utils import process_data, get_device\n",
    "import torch"
   ]
  },
  {
   "cell_type": "code",
   "execution_count": 2,
   "metadata": {},
   "outputs": [],
   "source": [
    "df = pd.read_csv(\"dataset/BA_weather_6-23_jan.csv\", parse_dates=[\"Date\"])"
   ]
  },
  {
   "cell_type": "code",
   "execution_count": 3,
   "metadata": {},
   "outputs": [],
   "source": [
    "weather_data = df.iloc[::-1]\n",
    "weather_data.reset_index(inplace=True)\n"
   ]
  },
  {
   "cell_type": "code",
   "execution_count": 4,
   "metadata": {},
   "outputs": [
    {
     "data": {
      "text/html": [
       "<div>\n",
       "<style scoped>\n",
       "    .dataframe tbody tr th:only-of-type {\n",
       "        vertical-align: middle;\n",
       "    }\n",
       "\n",
       "    .dataframe tbody tr th {\n",
       "        vertical-align: top;\n",
       "    }\n",
       "\n",
       "    .dataframe thead th {\n",
       "        text-align: right;\n",
       "    }\n",
       "</style>\n",
       "<table border=\"1\" class=\"dataframe\">\n",
       "  <thead>\n",
       "    <tr style=\"text-align: right;\">\n",
       "      <th></th>\n",
       "      <th>index</th>\n",
       "      <th>Date</th>\n",
       "      <th>T</th>\n",
       "      <th>P0</th>\n",
       "      <th>U</th>\n",
       "      <th>Ff</th>\n",
       "    </tr>\n",
       "  </thead>\n",
       "  <tbody>\n",
       "    <tr>\n",
       "      <th>0</th>\n",
       "      <td>861</td>\n",
       "      <td>2023-06-01 00:00:00</td>\n",
       "      <td>9</td>\n",
       "      <td>753.9</td>\n",
       "      <td>71</td>\n",
       "      <td>4</td>\n",
       "    </tr>\n",
       "    <tr>\n",
       "      <th>1</th>\n",
       "      <td>860</td>\n",
       "      <td>2023-06-01 00:30:00</td>\n",
       "      <td>9</td>\n",
       "      <td>753.9</td>\n",
       "      <td>71</td>\n",
       "      <td>4</td>\n",
       "    </tr>\n",
       "    <tr>\n",
       "      <th>2</th>\n",
       "      <td>859</td>\n",
       "      <td>2023-06-01 01:00:00</td>\n",
       "      <td>9</td>\n",
       "      <td>753.9</td>\n",
       "      <td>71</td>\n",
       "      <td>4</td>\n",
       "    </tr>\n",
       "    <tr>\n",
       "      <th>3</th>\n",
       "      <td>858</td>\n",
       "      <td>2023-06-01 01:30:00</td>\n",
       "      <td>8</td>\n",
       "      <td>754.7</td>\n",
       "      <td>76</td>\n",
       "      <td>4</td>\n",
       "    </tr>\n",
       "    <tr>\n",
       "      <th>4</th>\n",
       "      <td>857</td>\n",
       "      <td>2023-06-01 02:00:00</td>\n",
       "      <td>8</td>\n",
       "      <td>754.7</td>\n",
       "      <td>76</td>\n",
       "      <td>3</td>\n",
       "    </tr>\n",
       "    <tr>\n",
       "      <th>...</th>\n",
       "      <td>...</td>\n",
       "      <td>...</td>\n",
       "      <td>...</td>\n",
       "      <td>...</td>\n",
       "      <td>...</td>\n",
       "      <td>...</td>\n",
       "    </tr>\n",
       "    <tr>\n",
       "      <th>857</th>\n",
       "      <td>4</td>\n",
       "      <td>2023-01-23 21:30:00</td>\n",
       "      <td>2</td>\n",
       "      <td>759.6</td>\n",
       "      <td>87</td>\n",
       "      <td>3</td>\n",
       "    </tr>\n",
       "    <tr>\n",
       "      <th>858</th>\n",
       "      <td>3</td>\n",
       "      <td>2023-01-23 22:00:00</td>\n",
       "      <td>1</td>\n",
       "      <td>759.6</td>\n",
       "      <td>100</td>\n",
       "      <td>3</td>\n",
       "    </tr>\n",
       "    <tr>\n",
       "      <th>859</th>\n",
       "      <td>2</td>\n",
       "      <td>2023-01-23 22:30:00</td>\n",
       "      <td>1</td>\n",
       "      <td>760.4</td>\n",
       "      <td>93</td>\n",
       "      <td>3</td>\n",
       "    </tr>\n",
       "    <tr>\n",
       "      <th>860</th>\n",
       "      <td>1</td>\n",
       "      <td>2023-01-23 23:00:00</td>\n",
       "      <td>2</td>\n",
       "      <td>760.4</td>\n",
       "      <td>87</td>\n",
       "      <td>2</td>\n",
       "    </tr>\n",
       "    <tr>\n",
       "      <th>861</th>\n",
       "      <td>0</td>\n",
       "      <td>2023-01-23 23:30:00</td>\n",
       "      <td>0</td>\n",
       "      <td>760.3</td>\n",
       "      <td>93</td>\n",
       "      <td>3</td>\n",
       "    </tr>\n",
       "  </tbody>\n",
       "</table>\n",
       "<p>862 rows × 6 columns</p>\n",
       "</div>"
      ],
      "text/plain": [
       "     index                Date  T     P0    U  Ff\n",
       "0      861 2023-06-01 00:00:00  9  753.9   71   4\n",
       "1      860 2023-06-01 00:30:00  9  753.9   71   4\n",
       "2      859 2023-06-01 01:00:00  9  753.9   71   4\n",
       "3      858 2023-06-01 01:30:00  8  754.7   76   4\n",
       "4      857 2023-06-01 02:00:00  8  754.7   76   3\n",
       "..     ...                 ... ..    ...  ...  ..\n",
       "857      4 2023-01-23 21:30:00  2  759.6   87   3\n",
       "858      3 2023-01-23 22:00:00  1  759.6  100   3\n",
       "859      2 2023-01-23 22:30:00  1  760.4   93   3\n",
       "860      1 2023-01-23 23:00:00  2  760.4   87   2\n",
       "861      0 2023-01-23 23:30:00  0  760.3   93   3\n",
       "\n",
       "[862 rows x 6 columns]"
      ]
     },
     "execution_count": 4,
     "metadata": {},
     "output_type": "execute_result"
    }
   ],
   "source": [
    "weather_data"
   ]
  },
  {
   "cell_type": "code",
   "execution_count": 5,
   "metadata": {},
   "outputs": [
    {
     "name": "stderr",
     "output_type": "stream",
     "text": [
      "/Users/anmacko/Documents/FMFI/ML/WeatherProphet/data_utils.py:59: SettingWithCopyWarning: \n",
      "A value is trying to be set on a copy of a slice from a DataFrame.\n",
      "Try using .loc[row_indexer,col_indexer] = value instead\n",
      "\n",
      "See the caveats in the documentation: https://pandas.pydata.org/pandas-docs/stable/user_guide/indexing.html#returning-a-view-versus-a-copy\n",
      "  weather_data[\"day_of_year\"] = weather_data[\"Date\"].dt.dayofyear\n",
      "/Users/anmacko/Documents/FMFI/ML/WeatherProphet/data_utils.py:64: SettingWithCopyWarning: \n",
      "A value is trying to be set on a copy of a slice from a DataFrame.\n",
      "Try using .loc[row_indexer,col_indexer] = value instead\n",
      "\n",
      "See the caveats in the documentation: https://pandas.pydata.org/pandas-docs/stable/user_guide/indexing.html#returning-a-view-versus-a-copy\n",
      "  weather_data[\"time\"] = pd.to_datetime(\n",
      "/Users/anmacko/Documents/FMFI/ML/WeatherProphet/data_utils.py:67: SettingWithCopyWarning: \n",
      "A value is trying to be set on a copy of a slice from a DataFrame.\n",
      "Try using .loc[row_indexer,col_indexer] = value instead\n",
      "\n",
      "See the caveats in the documentation: https://pandas.pydata.org/pandas-docs/stable/user_guide/indexing.html#returning-a-view-versus-a-copy\n",
      "  weather_data[\"time\"] = weather_data[\"time\"].astype(\"string\")\n",
      "/Users/anmacko/Documents/FMFI/ML/WeatherProphet/data_utils.py:68: SettingWithCopyWarning: \n",
      "A value is trying to be set on a copy of a slice from a DataFrame.\n",
      "Try using .loc[row_indexer,col_indexer] = value instead\n",
      "\n",
      "See the caveats in the documentation: https://pandas.pydata.org/pandas-docs/stable/user_guide/indexing.html#returning-a-view-versus-a-copy\n",
      "  weather_data[[\"hour\", \"minutes\", \"seconds\"]] = weather_data[\"time\"].str.split(\n",
      "/Users/anmacko/Documents/FMFI/ML/WeatherProphet/data_utils.py:68: SettingWithCopyWarning: \n",
      "A value is trying to be set on a copy of a slice from a DataFrame.\n",
      "Try using .loc[row_indexer,col_indexer] = value instead\n",
      "\n",
      "See the caveats in the documentation: https://pandas.pydata.org/pandas-docs/stable/user_guide/indexing.html#returning-a-view-versus-a-copy\n",
      "  weather_data[[\"hour\", \"minutes\", \"seconds\"]] = weather_data[\"time\"].str.split(\n",
      "/Users/anmacko/Documents/FMFI/ML/WeatherProphet/data_utils.py:68: SettingWithCopyWarning: \n",
      "A value is trying to be set on a copy of a slice from a DataFrame.\n",
      "Try using .loc[row_indexer,col_indexer] = value instead\n",
      "\n",
      "See the caveats in the documentation: https://pandas.pydata.org/pandas-docs/stable/user_guide/indexing.html#returning-a-view-versus-a-copy\n",
      "  weather_data[[\"hour\", \"minutes\", \"seconds\"]] = weather_data[\"time\"].str.split(\n",
      "/Users/anmacko/Documents/FMFI/ML/WeatherProphet/data_utils.py:71: SettingWithCopyWarning: \n",
      "A value is trying to be set on a copy of a slice from a DataFrame.\n",
      "Try using .loc[row_indexer,col_indexer] = value instead\n",
      "\n",
      "See the caveats in the documentation: https://pandas.pydata.org/pandas-docs/stable/user_guide/indexing.html#returning-a-view-versus-a-copy\n",
      "  weather_data[[\"hour\", \"minutes\", \"seconds\"]] = weather_data[\n",
      "/Users/anmacko/Documents/FMFI/ML/WeatherProphet/data_utils.py:35: SettingWithCopyWarning: \n",
      "A value is trying to be set on a copy of a slice from a DataFrame.\n",
      "Try using .loc[row_indexer,col_indexer] = value instead\n",
      "\n",
      "See the caveats in the documentation: https://pandas.pydata.org/pandas-docs/stable/user_guide/indexing.html#returning-a-view-versus-a-copy\n",
      "  weather_data[\"next_T\"] = weather_data[\"T\"].shift(1)\n",
      "/Users/anmacko/Documents/FMFI/ML/WeatherProphet/data_utils.py:94: SettingWithCopyWarning: \n",
      "A value is trying to be set on a copy of a slice from a DataFrame.\n",
      "Try using .loc[row_indexer,col_indexer] = value instead\n",
      "\n",
      "See the caveats in the documentation: https://pandas.pydata.org/pandas-docs/stable/user_guide/indexing.html#returning-a-view-versus-a-copy\n",
      "  weather_data[\"sin_day_of_year\"] = np.sin(\n",
      "/Users/anmacko/Documents/FMFI/ML/WeatherProphet/data_utils.py:97: SettingWithCopyWarning: \n",
      "A value is trying to be set on a copy of a slice from a DataFrame.\n",
      "Try using .loc[row_indexer,col_indexer] = value instead\n",
      "\n",
      "See the caveats in the documentation: https://pandas.pydata.org/pandas-docs/stable/user_guide/indexing.html#returning-a-view-versus-a-copy\n",
      "  weather_data[\"cos_day_of_year\"] = np.cos(\n",
      "/Users/anmacko/Documents/FMFI/ML/WeatherProphet/data_utils.py:100: SettingWithCopyWarning: \n",
      "A value is trying to be set on a copy of a slice from a DataFrame.\n",
      "Try using .loc[row_indexer,col_indexer] = value instead\n",
      "\n",
      "See the caveats in the documentation: https://pandas.pydata.org/pandas-docs/stable/user_guide/indexing.html#returning-a-view-versus-a-copy\n",
      "  weather_data[\"sin_hour\"] = np.sin(2 * np.pi * weather_data[\"hour\"] / 24)\n",
      "/Users/anmacko/Documents/FMFI/ML/WeatherProphet/data_utils.py:101: SettingWithCopyWarning: \n",
      "A value is trying to be set on a copy of a slice from a DataFrame.\n",
      "Try using .loc[row_indexer,col_indexer] = value instead\n",
      "\n",
      "See the caveats in the documentation: https://pandas.pydata.org/pandas-docs/stable/user_guide/indexing.html#returning-a-view-versus-a-copy\n",
      "  weather_data[\"cos_hour\"] = np.cos(2 * np.pi * weather_data[\"hour\"] / 24)\n",
      "/Users/anmacko/Documents/FMFI/ML/WeatherProphet/data_utils.py:85: SettingWithCopyWarning: \n",
      "A value is trying to be set on a copy of a slice from a DataFrame\n",
      "\n",
      "See the caveats in the documentation: https://pandas.pydata.org/pandas-docs/stable/user_guide/indexing.html#returning-a-view-versus-a-copy\n",
      "  weather_data.drop(\n"
     ]
    }
   ],
   "source": [
    "X, y = process_data(weather_data)"
   ]
  },
  {
   "cell_type": "code",
   "execution_count": 6,
   "metadata": {},
   "outputs": [],
   "source": [
    "mean, std = np.load(\"dataset/stat.npy\")"
   ]
  },
  {
   "cell_type": "code",
   "execution_count": 7,
   "metadata": {},
   "outputs": [],
   "source": [
    "X = (X - mean) / std"
   ]
  },
  {
   "cell_type": "code",
   "execution_count": 8,
   "metadata": {},
   "outputs": [
    {
     "data": {
      "text/html": [
       "<div>\n",
       "<style scoped>\n",
       "    .dataframe tbody tr th:only-of-type {\n",
       "        vertical-align: middle;\n",
       "    }\n",
       "\n",
       "    .dataframe tbody tr th {\n",
       "        vertical-align: top;\n",
       "    }\n",
       "\n",
       "    .dataframe thead th {\n",
       "        text-align: right;\n",
       "    }\n",
       "</style>\n",
       "<table border=\"1\" class=\"dataframe\">\n",
       "  <thead>\n",
       "    <tr style=\"text-align: right;\">\n",
       "      <th></th>\n",
       "      <th>sin_day_of_year</th>\n",
       "      <th>cos_day_of_year</th>\n",
       "      <th>sin_hour</th>\n",
       "      <th>cos_hour</th>\n",
       "      <th>P0</th>\n",
       "      <th>T</th>\n",
       "      <th>U</th>\n",
       "      <th>Ff</th>\n",
       "    </tr>\n",
       "  </thead>\n",
       "  <tbody>\n",
       "    <tr>\n",
       "      <th>0</th>\n",
       "      <td>0.724488</td>\n",
       "      <td>-1.241554</td>\n",
       "      <td>-0.000427</td>\n",
       "      <td>1.415490</td>\n",
       "      <td>0.544631</td>\n",
       "      <td>-0.296610</td>\n",
       "      <td>-0.033131</td>\n",
       "      <td>0.110761</td>\n",
       "    </tr>\n",
       "    <tr>\n",
       "      <th>2</th>\n",
       "      <td>0.724488</td>\n",
       "      <td>-1.241554</td>\n",
       "      <td>0.365557</td>\n",
       "      <td>1.367297</td>\n",
       "      <td>0.544631</td>\n",
       "      <td>-0.296610</td>\n",
       "      <td>-0.033131</td>\n",
       "      <td>0.110761</td>\n",
       "    </tr>\n",
       "    <tr>\n",
       "      <th>4</th>\n",
       "      <td>0.724488</td>\n",
       "      <td>-1.241554</td>\n",
       "      <td>0.706600</td>\n",
       "      <td>1.226002</td>\n",
       "      <td>0.683916</td>\n",
       "      <td>-0.409101</td>\n",
       "      <td>0.243570</td>\n",
       "      <td>-0.334331</td>\n",
       "    </tr>\n",
       "    <tr>\n",
       "      <th>6</th>\n",
       "      <td>0.724488</td>\n",
       "      <td>-1.241554</td>\n",
       "      <td>0.999460</td>\n",
       "      <td>1.001235</td>\n",
       "      <td>0.683916</td>\n",
       "      <td>-0.296610</td>\n",
       "      <td>-0.033131</td>\n",
       "      <td>-0.334331</td>\n",
       "    </tr>\n",
       "    <tr>\n",
       "      <th>8</th>\n",
       "      <td>0.724488</td>\n",
       "      <td>-1.241554</td>\n",
       "      <td>1.224180</td>\n",
       "      <td>0.708312</td>\n",
       "      <td>0.683916</td>\n",
       "      <td>-0.409101</td>\n",
       "      <td>0.243570</td>\n",
       "      <td>-0.334331</td>\n",
       "    </tr>\n",
       "    <tr>\n",
       "      <th>...</th>\n",
       "      <td>...</td>\n",
       "      <td>...</td>\n",
       "      <td>...</td>\n",
       "      <td>...</td>\n",
       "      <td>...</td>\n",
       "      <td>...</td>\n",
       "      <td>...</td>\n",
       "      <td>...</td>\n",
       "    </tr>\n",
       "    <tr>\n",
       "      <th>852</th>\n",
       "      <td>0.560688</td>\n",
       "      <td>1.282359</td>\n",
       "      <td>-1.366298</td>\n",
       "      <td>0.367197</td>\n",
       "      <td>1.554444</td>\n",
       "      <td>-0.971558</td>\n",
       "      <td>0.852314</td>\n",
       "      <td>-0.779423</td>\n",
       "    </tr>\n",
       "    <tr>\n",
       "      <th>854</th>\n",
       "      <td>0.560688</td>\n",
       "      <td>1.282359</td>\n",
       "      <td>-1.225034</td>\n",
       "      <td>0.708312</td>\n",
       "      <td>1.554444</td>\n",
       "      <td>-0.971558</td>\n",
       "      <td>0.852314</td>\n",
       "      <td>-0.779423</td>\n",
       "    </tr>\n",
       "    <tr>\n",
       "      <th>856</th>\n",
       "      <td>0.560688</td>\n",
       "      <td>1.282359</td>\n",
       "      <td>-1.000314</td>\n",
       "      <td>1.001235</td>\n",
       "      <td>1.537033</td>\n",
       "      <td>-1.196540</td>\n",
       "      <td>1.184355</td>\n",
       "      <td>-0.334331</td>\n",
       "    </tr>\n",
       "    <tr>\n",
       "      <th>858</th>\n",
       "      <td>0.560688</td>\n",
       "      <td>1.282359</td>\n",
       "      <td>-0.707454</td>\n",
       "      <td>1.226002</td>\n",
       "      <td>1.537033</td>\n",
       "      <td>-1.196540</td>\n",
       "      <td>1.571737</td>\n",
       "      <td>-0.334331</td>\n",
       "    </tr>\n",
       "    <tr>\n",
       "      <th>860</th>\n",
       "      <td>0.560688</td>\n",
       "      <td>1.282359</td>\n",
       "      <td>-0.366411</td>\n",
       "      <td>1.367297</td>\n",
       "      <td>1.676317</td>\n",
       "      <td>-1.084049</td>\n",
       "      <td>0.852314</td>\n",
       "      <td>-0.779423</td>\n",
       "    </tr>\n",
       "  </tbody>\n",
       "</table>\n",
       "<p>431 rows × 8 columns</p>\n",
       "</div>"
      ],
      "text/plain": [
       "     sin_day_of_year  cos_day_of_year  sin_hour  cos_hour        P0         T  \\\n",
       "0           0.724488        -1.241554 -0.000427  1.415490  0.544631 -0.296610   \n",
       "2           0.724488        -1.241554  0.365557  1.367297  0.544631 -0.296610   \n",
       "4           0.724488        -1.241554  0.706600  1.226002  0.683916 -0.409101   \n",
       "6           0.724488        -1.241554  0.999460  1.001235  0.683916 -0.296610   \n",
       "8           0.724488        -1.241554  1.224180  0.708312  0.683916 -0.409101   \n",
       "..               ...              ...       ...       ...       ...       ...   \n",
       "852         0.560688         1.282359 -1.366298  0.367197  1.554444 -0.971558   \n",
       "854         0.560688         1.282359 -1.225034  0.708312  1.554444 -0.971558   \n",
       "856         0.560688         1.282359 -1.000314  1.001235  1.537033 -1.196540   \n",
       "858         0.560688         1.282359 -0.707454  1.226002  1.537033 -1.196540   \n",
       "860         0.560688         1.282359 -0.366411  1.367297  1.676317 -1.084049   \n",
       "\n",
       "            U        Ff  \n",
       "0   -0.033131  0.110761  \n",
       "2   -0.033131  0.110761  \n",
       "4    0.243570 -0.334331  \n",
       "6   -0.033131 -0.334331  \n",
       "8    0.243570 -0.334331  \n",
       "..        ...       ...  \n",
       "852  0.852314 -0.779423  \n",
       "854  0.852314 -0.779423  \n",
       "856  1.184355 -0.334331  \n",
       "858  1.571737 -0.334331  \n",
       "860  0.852314 -0.779423  \n",
       "\n",
       "[431 rows x 8 columns]"
      ]
     },
     "execution_count": 8,
     "metadata": {},
     "output_type": "execute_result"
    }
   ],
   "source": [
    "X"
   ]
  },
  {
   "cell_type": "code",
   "execution_count": 9,
   "metadata": {},
   "outputs": [
    {
     "data": {
      "text/plain": [
       "0      NaN\n",
       "2      9.0\n",
       "4      9.0\n",
       "6      8.0\n",
       "8      9.0\n",
       "      ... \n",
       "852    3.0\n",
       "854    3.0\n",
       "856    3.0\n",
       "858    1.0\n",
       "860    1.0\n",
       "Name: next_T, Length: 431, dtype: float64"
      ]
     },
     "execution_count": 9,
     "metadata": {},
     "output_type": "execute_result"
    }
   ],
   "source": [
    "y"
   ]
  },
  {
   "cell_type": "code",
   "execution_count": 10,
   "metadata": {},
   "outputs": [],
   "source": [
    "X, y = X.to_numpy()[1:], y.to_numpy()[1:]"
   ]
  },
  {
   "cell_type": "code",
   "execution_count": 11,
   "metadata": {},
   "outputs": [],
   "source": [
    "x1 = X[:6]\n",
    "y1 = y[6]\n"
   ]
  },
  {
   "cell_type": "code",
   "execution_count": 12,
   "metadata": {},
   "outputs": [
    {
     "data": {
      "text/plain": [
       "(6, 8)"
      ]
     },
     "execution_count": 12,
     "metadata": {},
     "output_type": "execute_result"
    }
   ],
   "source": [
    "x1.shape"
   ]
  },
  {
   "cell_type": "code",
   "execution_count": 23,
   "metadata": {},
   "outputs": [],
   "source": [
    "x1 = np.reshape(x1, (1,6,8))"
   ]
  },
  {
   "cell_type": "code",
   "execution_count": 15,
   "metadata": {},
   "outputs": [
    {
     "data": {
      "text/plain": [
       "8.0"
      ]
     },
     "execution_count": 15,
     "metadata": {},
     "output_type": "execute_result"
    }
   ],
   "source": [
    "y1"
   ]
  },
  {
   "cell_type": "code",
   "execution_count": 16,
   "metadata": {},
   "outputs": [],
   "source": [
    "device = get_device()\n"
   ]
  },
  {
   "cell_type": "code",
   "execution_count": 17,
   "metadata": {},
   "outputs": [],
   "source": [
    "wp = torch.load('WP100-wtf_multistep3.pt')"
   ]
  },
  {
   "cell_type": "code",
   "execution_count": 18,
   "metadata": {},
   "outputs": [
    {
     "data": {
      "text/plain": [
       "ClassicWeatherProphet(\n",
       "  (model): Sequential(\n",
       "    (0): Linear(in_features=48, out_features=64, bias=True)\n",
       "    (1): ReLU()\n",
       "    (2): Linear(in_features=64, out_features=64, bias=True)\n",
       "    (3): ReLU()\n",
       "    (4): Linear(in_features=64, out_features=1, bias=True)\n",
       "  )\n",
       ")"
      ]
     },
     "execution_count": 18,
     "metadata": {},
     "output_type": "execute_result"
    }
   ],
   "source": [
    "wp.to(device)"
   ]
  },
  {
   "cell_type": "code",
   "execution_count": 19,
   "metadata": {},
   "outputs": [
    {
     "data": {
      "text/plain": [
       "ClassicWeatherProphet(\n",
       "  (model): Sequential(\n",
       "    (0): Linear(in_features=48, out_features=64, bias=True)\n",
       "    (1): ReLU()\n",
       "    (2): Linear(in_features=64, out_features=64, bias=True)\n",
       "    (3): ReLU()\n",
       "    (4): Linear(in_features=64, out_features=1, bias=True)\n",
       "  )\n",
       ")"
      ]
     },
     "execution_count": 19,
     "metadata": {},
     "output_type": "execute_result"
    }
   ],
   "source": [
    "wp.eval()"
   ]
  },
  {
   "cell_type": "code",
   "execution_count": 24,
   "metadata": {},
   "outputs": [],
   "source": [
    "X_features = torch.from_numpy(x1).float().to(device)"
   ]
  },
  {
   "cell_type": "code",
   "execution_count": 25,
   "metadata": {},
   "outputs": [
    {
     "data": {
      "text/plain": [
       "torch.Size([1, 6, 8])"
      ]
     },
     "execution_count": 25,
     "metadata": {},
     "output_type": "execute_result"
    }
   ],
   "source": [
    "X_features.shape"
   ]
  },
  {
   "cell_type": "code",
   "execution_count": 26,
   "metadata": {},
   "outputs": [],
   "source": [
    "y_hat = wp(X_features)"
   ]
  },
  {
   "cell_type": "code",
   "execution_count": 27,
   "metadata": {},
   "outputs": [
    {
     "name": "stderr",
     "output_type": "stream",
     "text": [
      "/opt/anaconda3/envs/masters/lib/python3.10/site-packages/torch/_tensor_str.py:115: UserWarning: The operator 'aten::nonzero' is not currently supported on the MPS backend and will fall back to run on the CPU. This may have performance implications. (Triggered internally at /Users/runner/work/_temp/anaconda/conda-bld/pytorch_1666646991213/work/aten/src/ATen/mps/MPSFallback.mm:11.)\n",
      "  nonzero_finite_vals = torch.masked_select(\n"
     ]
    },
    {
     "data": {
      "text/plain": [
       "tensor([[[7.8834]]], device='mps:0', grad_fn=<LinearBackward0>)"
      ]
     },
     "execution_count": 27,
     "metadata": {},
     "output_type": "execute_result"
    }
   ],
   "source": [
    "y_hat"
   ]
  },
  {
   "cell_type": "code",
   "execution_count": null,
   "metadata": {},
   "outputs": [],
   "source": []
  }
 ],
 "metadata": {
  "kernelspec": {
   "display_name": "masters",
   "language": "python",
   "name": "python3"
  },
  "language_info": {
   "codemirror_mode": {
    "name": "ipython",
    "version": 3
   },
   "file_extension": ".py",
   "mimetype": "text/x-python",
   "name": "python",
   "nbconvert_exporter": "python",
   "pygments_lexer": "ipython3",
   "version": "3.10.6"
  },
  "orig_nbformat": 4,
  "vscode": {
   "interpreter": {
    "hash": "bb7fab73ff06782fdb7c893c145e9fed38cd61fdac306d5e7822b4090927a99a"
   }
  }
 },
 "nbformat": 4,
 "nbformat_minor": 2
}
