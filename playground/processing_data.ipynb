{
 "cells": [
  {
   "cell_type": "code",
   "execution_count": 155,
   "metadata": {
    "collapsed": true
   },
   "outputs": [],
   "source": [
    "import pandas as pd\n",
    "import numpy as np\n",
    "from matplotlib import pyplot as plt\n",
    "import utils as helper\n",
    "import torch\n",
    "from dataset import TimeSeriesDataset\n",
    "from torch.utils.data import DataLoader"
   ]
  },
  {
   "cell_type": "code",
   "execution_count": 156,
   "metadata": {
    "collapsed": false
   },
   "outputs": [],
   "source": [
    "test_data = pd.read_csv('dataset/BA_weather_6-23_jan.csv', parse_dates=['Date'])\n",
    "mean, std = np.load('dataset/stat.npy')\n",
    "test_data = test_data.iloc[::-1]\n",
    "test_data.reset_index(drop=True, inplace=True)\n",
    "test_data[\"next_T\"] = test_data[\"T\"].shift(1)"
   ]
  },
  {
   "cell_type": "code",
   "execution_count": 157,
   "metadata": {},
   "outputs": [
    {
     "data": {
      "text/html": [
       "<div>\n",
       "<style scoped>\n",
       "    .dataframe tbody tr th:only-of-type {\n",
       "        vertical-align: middle;\n",
       "    }\n",
       "\n",
       "    .dataframe tbody tr th {\n",
       "        vertical-align: top;\n",
       "    }\n",
       "\n",
       "    .dataframe thead th {\n",
       "        text-align: right;\n",
       "    }\n",
       "</style>\n",
       "<table border=\"1\" class=\"dataframe\">\n",
       "  <thead>\n",
       "    <tr style=\"text-align: right;\">\n",
       "      <th></th>\n",
       "      <th>Date</th>\n",
       "      <th>T</th>\n",
       "      <th>P0</th>\n",
       "      <th>U</th>\n",
       "      <th>Ff</th>\n",
       "      <th>next_T</th>\n",
       "    </tr>\n",
       "  </thead>\n",
       "  <tbody>\n",
       "    <tr>\n",
       "      <th>0</th>\n",
       "      <td>2023-06-01 00:00:00</td>\n",
       "      <td>9</td>\n",
       "      <td>753.9</td>\n",
       "      <td>71</td>\n",
       "      <td>4</td>\n",
       "      <td>NaN</td>\n",
       "    </tr>\n",
       "    <tr>\n",
       "      <th>1</th>\n",
       "      <td>2023-06-01 00:30:00</td>\n",
       "      <td>9</td>\n",
       "      <td>753.9</td>\n",
       "      <td>71</td>\n",
       "      <td>4</td>\n",
       "      <td>9.0</td>\n",
       "    </tr>\n",
       "    <tr>\n",
       "      <th>2</th>\n",
       "      <td>2023-06-01 01:00:00</td>\n",
       "      <td>9</td>\n",
       "      <td>753.9</td>\n",
       "      <td>71</td>\n",
       "      <td>4</td>\n",
       "      <td>9.0</td>\n",
       "    </tr>\n",
       "    <tr>\n",
       "      <th>3</th>\n",
       "      <td>2023-06-01 01:30:00</td>\n",
       "      <td>8</td>\n",
       "      <td>754.7</td>\n",
       "      <td>76</td>\n",
       "      <td>4</td>\n",
       "      <td>9.0</td>\n",
       "    </tr>\n",
       "    <tr>\n",
       "      <th>4</th>\n",
       "      <td>2023-06-01 02:00:00</td>\n",
       "      <td>8</td>\n",
       "      <td>754.7</td>\n",
       "      <td>76</td>\n",
       "      <td>3</td>\n",
       "      <td>8.0</td>\n",
       "    </tr>\n",
       "    <tr>\n",
       "      <th>...</th>\n",
       "      <td>...</td>\n",
       "      <td>...</td>\n",
       "      <td>...</td>\n",
       "      <td>...</td>\n",
       "      <td>...</td>\n",
       "      <td>...</td>\n",
       "    </tr>\n",
       "    <tr>\n",
       "      <th>857</th>\n",
       "      <td>2023-01-23 21:30:00</td>\n",
       "      <td>2</td>\n",
       "      <td>759.6</td>\n",
       "      <td>87</td>\n",
       "      <td>3</td>\n",
       "      <td>1.0</td>\n",
       "    </tr>\n",
       "    <tr>\n",
       "      <th>858</th>\n",
       "      <td>2023-01-23 22:00:00</td>\n",
       "      <td>1</td>\n",
       "      <td>759.6</td>\n",
       "      <td>100</td>\n",
       "      <td>3</td>\n",
       "      <td>2.0</td>\n",
       "    </tr>\n",
       "    <tr>\n",
       "      <th>859</th>\n",
       "      <td>2023-01-23 22:30:00</td>\n",
       "      <td>1</td>\n",
       "      <td>760.4</td>\n",
       "      <td>93</td>\n",
       "      <td>3</td>\n",
       "      <td>1.0</td>\n",
       "    </tr>\n",
       "    <tr>\n",
       "      <th>860</th>\n",
       "      <td>2023-01-23 23:00:00</td>\n",
       "      <td>2</td>\n",
       "      <td>760.4</td>\n",
       "      <td>87</td>\n",
       "      <td>2</td>\n",
       "      <td>1.0</td>\n",
       "    </tr>\n",
       "    <tr>\n",
       "      <th>861</th>\n",
       "      <td>2023-01-23 23:30:00</td>\n",
       "      <td>0</td>\n",
       "      <td>760.3</td>\n",
       "      <td>93</td>\n",
       "      <td>3</td>\n",
       "      <td>2.0</td>\n",
       "    </tr>\n",
       "  </tbody>\n",
       "</table>\n",
       "<p>862 rows × 6 columns</p>\n",
       "</div>"
      ],
      "text/plain": [
       "                   Date  T     P0    U  Ff  next_T\n",
       "0   2023-06-01 00:00:00  9  753.9   71   4     NaN\n",
       "1   2023-06-01 00:30:00  9  753.9   71   4     9.0\n",
       "2   2023-06-01 01:00:00  9  753.9   71   4     9.0\n",
       "3   2023-06-01 01:30:00  8  754.7   76   4     9.0\n",
       "4   2023-06-01 02:00:00  8  754.7   76   3     8.0\n",
       "..                  ... ..    ...  ...  ..     ...\n",
       "857 2023-01-23 21:30:00  2  759.6   87   3     1.0\n",
       "858 2023-01-23 22:00:00  1  759.6  100   3     2.0\n",
       "859 2023-01-23 22:30:00  1  760.4   93   3     1.0\n",
       "860 2023-01-23 23:00:00  2  760.4   87   2     1.0\n",
       "861 2023-01-23 23:30:00  0  760.3   93   3     2.0\n",
       "\n",
       "[862 rows x 6 columns]"
      ]
     },
     "execution_count": 157,
     "metadata": {},
     "output_type": "execute_result"
    }
   ],
   "source": [
    "test_data"
   ]
  },
  {
   "cell_type": "code",
   "execution_count": 158,
   "metadata": {},
   "outputs": [
    {
     "name": "stderr",
     "output_type": "stream",
     "text": [
      "/home/maco/Documents/git-repos/WeatherProphet/data_utils.py:91: SettingWithCopyWarning: \n",
      "A value is trying to be set on a copy of a slice from a DataFrame.\n",
      "Try using .loc[row_indexer,col_indexer] = value instead\n",
      "\n",
      "See the caveats in the documentation: https://pandas.pydata.org/pandas-docs/stable/user_guide/indexing.html#returning-a-view-versus-a-copy\n",
      "  weather_data[\"sin_day_of_year\"] = np.sin(\n",
      "/home/maco/Documents/git-repos/WeatherProphet/data_utils.py:94: SettingWithCopyWarning: \n",
      "A value is trying to be set on a copy of a slice from a DataFrame.\n",
      "Try using .loc[row_indexer,col_indexer] = value instead\n",
      "\n",
      "See the caveats in the documentation: https://pandas.pydata.org/pandas-docs/stable/user_guide/indexing.html#returning-a-view-versus-a-copy\n",
      "  weather_data[\"cos_day_of_year\"] = np.cos(\n",
      "/home/maco/Documents/git-repos/WeatherProphet/data_utils.py:97: SettingWithCopyWarning: \n",
      "A value is trying to be set on a copy of a slice from a DataFrame.\n",
      "Try using .loc[row_indexer,col_indexer] = value instead\n",
      "\n",
      "See the caveats in the documentation: https://pandas.pydata.org/pandas-docs/stable/user_guide/indexing.html#returning-a-view-versus-a-copy\n",
      "  weather_data[\"sin_hour\"] = np.sin(2 * np.pi * weather_data[\"hour\"] / 24)\n",
      "/home/maco/Documents/git-repos/WeatherProphet/data_utils.py:98: SettingWithCopyWarning: \n",
      "A value is trying to be set on a copy of a slice from a DataFrame.\n",
      "Try using .loc[row_indexer,col_indexer] = value instead\n",
      "\n",
      "See the caveats in the documentation: https://pandas.pydata.org/pandas-docs/stable/user_guide/indexing.html#returning-a-view-versus-a-copy\n",
      "  weather_data[\"cos_hour\"] = np.cos(2 * np.pi * weather_data[\"hour\"] / 24)\n",
      "/home/maco/Documents/git-repos/WeatherProphet/data_utils.py:82: SettingWithCopyWarning: \n",
      "A value is trying to be set on a copy of a slice from a DataFrame\n",
      "\n",
      "See the caveats in the documentation: https://pandas.pydata.org/pandas-docs/stable/user_guide/indexing.html#returning-a-view-versus-a-copy\n",
      "  weather_data.drop(\n"
     ]
    }
   ],
   "source": [
    "X, y = helper.process_data(test_data)"
   ]
  },
  {
   "cell_type": "code",
   "execution_count": 159,
   "metadata": {},
   "outputs": [
    {
     "data": {
      "text/html": [
       "<div>\n",
       "<style scoped>\n",
       "    .dataframe tbody tr th:only-of-type {\n",
       "        vertical-align: middle;\n",
       "    }\n",
       "\n",
       "    .dataframe tbody tr th {\n",
       "        vertical-align: top;\n",
       "    }\n",
       "\n",
       "    .dataframe thead th {\n",
       "        text-align: right;\n",
       "    }\n",
       "</style>\n",
       "<table border=\"1\" class=\"dataframe\">\n",
       "  <thead>\n",
       "    <tr style=\"text-align: right;\">\n",
       "      <th></th>\n",
       "      <th>sin_day_of_year</th>\n",
       "      <th>cos_day_of_year</th>\n",
       "      <th>sin_hour</th>\n",
       "      <th>cos_hour</th>\n",
       "      <th>P0</th>\n",
       "      <th>T</th>\n",
       "      <th>U</th>\n",
       "      <th>Ff</th>\n",
       "    </tr>\n",
       "  </thead>\n",
       "  <tbody>\n",
       "    <tr>\n",
       "      <th>1</th>\n",
       "      <td>0.501242</td>\n",
       "      <td>-0.865307</td>\n",
       "      <td>0.258819</td>\n",
       "      <td>0.965926</td>\n",
       "      <td>753.9</td>\n",
       "      <td>9</td>\n",
       "      <td>71</td>\n",
       "      <td>4</td>\n",
       "    </tr>\n",
       "    <tr>\n",
       "      <th>3</th>\n",
       "      <td>0.501242</td>\n",
       "      <td>-0.865307</td>\n",
       "      <td>0.500000</td>\n",
       "      <td>0.866025</td>\n",
       "      <td>754.7</td>\n",
       "      <td>8</td>\n",
       "      <td>76</td>\n",
       "      <td>3</td>\n",
       "    </tr>\n",
       "    <tr>\n",
       "      <th>5</th>\n",
       "      <td>0.501242</td>\n",
       "      <td>-0.865307</td>\n",
       "      <td>0.707107</td>\n",
       "      <td>0.707107</td>\n",
       "      <td>754.7</td>\n",
       "      <td>9</td>\n",
       "      <td>71</td>\n",
       "      <td>3</td>\n",
       "    </tr>\n",
       "    <tr>\n",
       "      <th>7</th>\n",
       "      <td>0.501242</td>\n",
       "      <td>-0.865307</td>\n",
       "      <td>0.866025</td>\n",
       "      <td>0.500000</td>\n",
       "      <td>754.7</td>\n",
       "      <td>8</td>\n",
       "      <td>76</td>\n",
       "      <td>3</td>\n",
       "    </tr>\n",
       "    <tr>\n",
       "      <th>9</th>\n",
       "      <td>0.501242</td>\n",
       "      <td>-0.865307</td>\n",
       "      <td>0.965926</td>\n",
       "      <td>0.258819</td>\n",
       "      <td>755.4</td>\n",
       "      <td>8</td>\n",
       "      <td>76</td>\n",
       "      <td>4</td>\n",
       "    </tr>\n",
       "    <tr>\n",
       "      <th>...</th>\n",
       "      <td>...</td>\n",
       "      <td>...</td>\n",
       "      <td>...</td>\n",
       "      <td>...</td>\n",
       "      <td>...</td>\n",
       "      <td>...</td>\n",
       "      <td>...</td>\n",
       "      <td>...</td>\n",
       "    </tr>\n",
       "    <tr>\n",
       "      <th>851</th>\n",
       "      <td>0.385663</td>\n",
       "      <td>0.922640</td>\n",
       "      <td>-0.965926</td>\n",
       "      <td>0.258819</td>\n",
       "      <td>759.7</td>\n",
       "      <td>3</td>\n",
       "      <td>87</td>\n",
       "      <td>2</td>\n",
       "    </tr>\n",
       "    <tr>\n",
       "      <th>853</th>\n",
       "      <td>0.385663</td>\n",
       "      <td>0.922640</td>\n",
       "      <td>-0.866025</td>\n",
       "      <td>0.500000</td>\n",
       "      <td>759.7</td>\n",
       "      <td>3</td>\n",
       "      <td>87</td>\n",
       "      <td>2</td>\n",
       "    </tr>\n",
       "    <tr>\n",
       "      <th>855</th>\n",
       "      <td>0.385663</td>\n",
       "      <td>0.922640</td>\n",
       "      <td>-0.707107</td>\n",
       "      <td>0.707107</td>\n",
       "      <td>759.6</td>\n",
       "      <td>1</td>\n",
       "      <td>93</td>\n",
       "      <td>3</td>\n",
       "    </tr>\n",
       "    <tr>\n",
       "      <th>857</th>\n",
       "      <td>0.385663</td>\n",
       "      <td>0.922640</td>\n",
       "      <td>-0.500000</td>\n",
       "      <td>0.866025</td>\n",
       "      <td>759.6</td>\n",
       "      <td>1</td>\n",
       "      <td>100</td>\n",
       "      <td>3</td>\n",
       "    </tr>\n",
       "    <tr>\n",
       "      <th>859</th>\n",
       "      <td>0.385663</td>\n",
       "      <td>0.922640</td>\n",
       "      <td>-0.258819</td>\n",
       "      <td>0.965926</td>\n",
       "      <td>760.4</td>\n",
       "      <td>2</td>\n",
       "      <td>87</td>\n",
       "      <td>2</td>\n",
       "    </tr>\n",
       "  </tbody>\n",
       "</table>\n",
       "<p>430 rows × 8 columns</p>\n",
       "</div>"
      ],
      "text/plain": [
       "     sin_day_of_year  cos_day_of_year  sin_hour  cos_hour     P0  T    U  Ff\n",
       "1           0.501242        -0.865307  0.258819  0.965926  753.9  9   71   4\n",
       "3           0.501242        -0.865307  0.500000  0.866025  754.7  8   76   3\n",
       "5           0.501242        -0.865307  0.707107  0.707107  754.7  9   71   3\n",
       "7           0.501242        -0.865307  0.866025  0.500000  754.7  8   76   3\n",
       "9           0.501242        -0.865307  0.965926  0.258819  755.4  8   76   4\n",
       "..               ...              ...       ...       ...    ... ..  ...  ..\n",
       "851         0.385663         0.922640 -0.965926  0.258819  759.7  3   87   2\n",
       "853         0.385663         0.922640 -0.866025  0.500000  759.7  3   87   2\n",
       "855         0.385663         0.922640 -0.707107  0.707107  759.6  1   93   3\n",
       "857         0.385663         0.922640 -0.500000  0.866025  759.6  1  100   3\n",
       "859         0.385663         0.922640 -0.258819  0.965926  760.4  2   87   2\n",
       "\n",
       "[430 rows x 8 columns]"
      ]
     },
     "execution_count": 159,
     "metadata": {},
     "output_type": "execute_result"
    }
   ],
   "source": [
    "X"
   ]
  },
  {
   "cell_type": "code",
   "execution_count": 160,
   "metadata": {},
   "outputs": [
    {
     "data": {
      "text/plain": [
       "1      9.0\n",
       "3      8.0\n",
       "5      9.0\n",
       "7      8.0\n",
       "9      9.0\n",
       "      ... \n",
       "851    3.0\n",
       "853    3.0\n",
       "855    2.0\n",
       "857    2.0\n",
       "859    1.0\n",
       "Name: next_T, Length: 430, dtype: float64"
      ]
     },
     "execution_count": 160,
     "metadata": {},
     "output_type": "execute_result"
    }
   ],
   "source": [
    "y"
   ]
  },
  {
   "cell_type": "code",
   "execution_count": 161,
   "metadata": {},
   "outputs": [],
   "source": [
    "X, mean, std = helper.normalize_data(X)"
   ]
  },
  {
   "cell_type": "code",
   "execution_count": 162,
   "metadata": {},
   "outputs": [],
   "source": [
    "X, Y = X.to_numpy(), y.to_numpy()"
   ]
  },
  {
   "cell_type": "code",
   "execution_count": null,
   "metadata": {},
   "outputs": [],
   "source": []
  },
  {
   "cell_type": "code",
   "execution_count": 163,
   "metadata": {},
   "outputs": [],
   "source": [
    "dataset = TimeSeriesDataset(X, y, 1)\n",
    "dataloader = DataLoader(dataset, batch_size=1, shuffle=False)"
   ]
  },
  {
   "cell_type": "code",
   "execution_count": 164,
   "metadata": {},
   "outputs": [
    {
     "data": {
      "text/plain": [
       "ClassicWeatherProphet(\n",
       "  (model): Sequential(\n",
       "    (0): Linear(in_features=8, out_features=64, bias=True)\n",
       "    (1): ReLU()\n",
       "    (2): Linear(in_features=64, out_features=64, bias=True)\n",
       "    (3): ReLU()\n",
       "    (4): Linear(in_features=64, out_features=1, bias=True)\n",
       "  )\n",
       ")"
      ]
     },
     "execution_count": 164,
     "metadata": {},
     "output_type": "execute_result"
    }
   ],
   "source": [
    "device = \"cuda\" if torch.cuda.is_available() else \"cpu\"\n",
    "model = torch.load('WP200-mlp_w1_sch60_shuffle_ds.pt')\n",
    "model.to(device)\n",
    "model.eval()"
   ]
  },
  {
   "cell_type": "code",
   "execution_count": 165,
   "metadata": {},
   "outputs": [
    {
     "name": "stdout",
     "output_type": "stream",
     "text": [
      "tensor([[[ 1.0131, -1.8482,  0.3640,  1.3675,  0.8248,  1.6455, -1.1111,\n",
      "           0.0798]]], device='cuda:0')\n",
      "tensor([[9.]], device='cuda:0')\n"
     ]
    }
   ],
   "source": [
    "\n",
    "a = []\n",
    "for i, batch in enumerate(dataloader):\n",
    "    x = batch[0].type(torch.FloatTensor).to(device)\n",
    "    y = batch[1].type(torch.FloatTensor).to(device).reshape(-1, 1)\n",
    "    print(x)\n",
    "    print(y)\n",
    "    y_pred = model(x)\n",
    "    a.append(y_pred.detach().cpu().numpy())\n",
    "    break"
   ]
  },
  {
   "cell_type": "code",
   "execution_count": 166,
   "metadata": {},
   "outputs": [
    {
     "data": {
      "text/plain": [
       "[array([[26.792059]], dtype=float32)]"
      ]
     },
     "execution_count": 166,
     "metadata": {},
     "output_type": "execute_result"
    }
   ],
   "source": [
    "a"
   ]
  },
  {
   "cell_type": "code",
   "execution_count": 167,
   "metadata": {},
   "outputs": [
    {
     "data": {
      "text/plain": [
       "array([ 1.01305681, -1.84824608,  0.36396058,  1.36751848,  0.82476945,\n",
       "        1.64548205, -1.11109484,  0.07977525])"
      ]
     },
     "execution_count": 167,
     "metadata": {},
     "output_type": "execute_result"
    }
   ],
   "source": [
    "X[0]"
   ]
  },
  {
   "cell_type": "code",
   "execution_count": 168,
   "metadata": {},
   "outputs": [
    {
     "data": {
      "text/plain": [
       "array([9., 8., 9., 8., 9., 8., 7., 6., 6., 9.])"
      ]
     },
     "execution_count": 168,
     "metadata": {},
     "output_type": "execute_result"
    }
   ],
   "source": [
    "Y[0:10]"
   ]
  }
 ],
 "metadata": {
  "kernelspec": {
   "display_name": "weather_prophet",
   "language": "python",
   "name": "python3"
  },
  "language_info": {
   "codemirror_mode": {
    "name": "ipython",
    "version": 3
   },
   "file_extension": ".py",
   "mimetype": "text/x-python",
   "name": "python",
   "nbconvert_exporter": "python",
   "pygments_lexer": "ipython3",
   "version": "3.10.9 (main, Jan 11 2023, 15:21:40) [GCC 11.2.0]"
  },
  "vscode": {
   "interpreter": {
    "hash": "c21f29f0cf615e4a31aec596abf0aac77b58cce41fe971d0908bb4c9715d0889"
   }
  }
 },
 "nbformat": 4,
 "nbformat_minor": 0
}
