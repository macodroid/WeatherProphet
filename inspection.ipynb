{
 "cells": [
  {
   "cell_type": "code",
   "execution_count": 63,
   "metadata": {},
   "outputs": [],
   "source": [
    "import numpy as np\n",
    "import pandas as pd\n",
    "from utils import process_data, get_device\n",
    "import torch"
   ]
  },
  {
   "cell_type": "code",
   "execution_count": 93,
   "metadata": {},
   "outputs": [],
   "source": [
    "df = pd.read_csv(\"dataset/BA_weather_6-23_jan.csv\", parse_dates=[\"Date\"])"
   ]
  },
  {
   "cell_type": "code",
   "execution_count": 94,
   "metadata": {},
   "outputs": [],
   "source": [
    "weather_data = df.iloc[::-1]\n",
    "weather_data.reset_index(drop=True, inplace=True)\n"
   ]
  },
  {
   "cell_type": "code",
   "execution_count": 95,
   "metadata": {},
   "outputs": [
    {
     "data": {
      "text/plain": "                   Date  T     P0    U  Ff\n0   2023-06-01 00:00:00  9  753.9   71   4\n1   2023-06-01 00:30:00  9  753.9   71   4\n2   2023-06-01 01:00:00  9  753.9   71   4\n3   2023-06-01 01:30:00  8  754.7   76   4\n4   2023-06-01 02:00:00  8  754.7   76   3\n..                  ... ..    ...  ...  ..\n857 2023-01-23 21:30:00  2  759.6   87   3\n858 2023-01-23 22:00:00  1  759.6  100   3\n859 2023-01-23 22:30:00  1  760.4   93   3\n860 2023-01-23 23:00:00  2  760.4   87   2\n861 2023-01-23 23:30:00  0  760.3   93   3\n\n[862 rows x 5 columns]",
      "text/html": "<div>\n<style scoped>\n    .dataframe tbody tr th:only-of-type {\n        vertical-align: middle;\n    }\n\n    .dataframe tbody tr th {\n        vertical-align: top;\n    }\n\n    .dataframe thead th {\n        text-align: right;\n    }\n</style>\n<table border=\"1\" class=\"dataframe\">\n  <thead>\n    <tr style=\"text-align: right;\">\n      <th></th>\n      <th>Date</th>\n      <th>T</th>\n      <th>P0</th>\n      <th>U</th>\n      <th>Ff</th>\n    </tr>\n  </thead>\n  <tbody>\n    <tr>\n      <th>0</th>\n      <td>2023-06-01 00:00:00</td>\n      <td>9</td>\n      <td>753.9</td>\n      <td>71</td>\n      <td>4</td>\n    </tr>\n    <tr>\n      <th>1</th>\n      <td>2023-06-01 00:30:00</td>\n      <td>9</td>\n      <td>753.9</td>\n      <td>71</td>\n      <td>4</td>\n    </tr>\n    <tr>\n      <th>2</th>\n      <td>2023-06-01 01:00:00</td>\n      <td>9</td>\n      <td>753.9</td>\n      <td>71</td>\n      <td>4</td>\n    </tr>\n    <tr>\n      <th>3</th>\n      <td>2023-06-01 01:30:00</td>\n      <td>8</td>\n      <td>754.7</td>\n      <td>76</td>\n      <td>4</td>\n    </tr>\n    <tr>\n      <th>4</th>\n      <td>2023-06-01 02:00:00</td>\n      <td>8</td>\n      <td>754.7</td>\n      <td>76</td>\n      <td>3</td>\n    </tr>\n    <tr>\n      <th>...</th>\n      <td>...</td>\n      <td>...</td>\n      <td>...</td>\n      <td>...</td>\n      <td>...</td>\n    </tr>\n    <tr>\n      <th>857</th>\n      <td>2023-01-23 21:30:00</td>\n      <td>2</td>\n      <td>759.6</td>\n      <td>87</td>\n      <td>3</td>\n    </tr>\n    <tr>\n      <th>858</th>\n      <td>2023-01-23 22:00:00</td>\n      <td>1</td>\n      <td>759.6</td>\n      <td>100</td>\n      <td>3</td>\n    </tr>\n    <tr>\n      <th>859</th>\n      <td>2023-01-23 22:30:00</td>\n      <td>1</td>\n      <td>760.4</td>\n      <td>93</td>\n      <td>3</td>\n    </tr>\n    <tr>\n      <th>860</th>\n      <td>2023-01-23 23:00:00</td>\n      <td>2</td>\n      <td>760.4</td>\n      <td>87</td>\n      <td>2</td>\n    </tr>\n    <tr>\n      <th>861</th>\n      <td>2023-01-23 23:30:00</td>\n      <td>0</td>\n      <td>760.3</td>\n      <td>93</td>\n      <td>3</td>\n    </tr>\n  </tbody>\n</table>\n<p>862 rows × 5 columns</p>\n</div>"
     },
     "execution_count": 95,
     "metadata": {},
     "output_type": "execute_result"
    }
   ],
   "source": [
    "weather_data"
   ]
  },
  {
   "cell_type": "code",
   "execution_count": 96,
   "metadata": {},
   "outputs": [
    {
     "name": "stderr",
     "output_type": "stream",
     "text": [
      "/home/maco/Documents/git-repos/WeatherProphet/utils.py:59: SettingWithCopyWarning: \n",
      "A value is trying to be set on a copy of a slice from a DataFrame.\n",
      "Try using .loc[row_indexer,col_indexer] = value instead\n",
      "\n",
      "See the caveats in the documentation: https://pandas.pydata.org/pandas-docs/stable/user_guide/indexing.html#returning-a-view-versus-a-copy\n",
      "  weather_data[\"day_of_year\"] = weather_data[\"Date\"].dt.dayofyear\n",
      "/home/maco/Documents/git-repos/WeatherProphet/utils.py:64: SettingWithCopyWarning: \n",
      "A value is trying to be set on a copy of a slice from a DataFrame.\n",
      "Try using .loc[row_indexer,col_indexer] = value instead\n",
      "\n",
      "See the caveats in the documentation: https://pandas.pydata.org/pandas-docs/stable/user_guide/indexing.html#returning-a-view-versus-a-copy\n",
      "  weather_data[\"time\"] = pd.to_datetime(\n",
      "/home/maco/Documents/git-repos/WeatherProphet/utils.py:67: SettingWithCopyWarning: \n",
      "A value is trying to be set on a copy of a slice from a DataFrame.\n",
      "Try using .loc[row_indexer,col_indexer] = value instead\n",
      "\n",
      "See the caveats in the documentation: https://pandas.pydata.org/pandas-docs/stable/user_guide/indexing.html#returning-a-view-versus-a-copy\n",
      "  weather_data[\"time\"] = weather_data[\"time\"].astype(\"string\")\n",
      "/home/maco/Documents/git-repos/WeatherProphet/utils.py:68: SettingWithCopyWarning: \n",
      "A value is trying to be set on a copy of a slice from a DataFrame.\n",
      "Try using .loc[row_indexer,col_indexer] = value instead\n",
      "\n",
      "See the caveats in the documentation: https://pandas.pydata.org/pandas-docs/stable/user_guide/indexing.html#returning-a-view-versus-a-copy\n",
      "  weather_data[[\"hour\", \"minutes\", \"seconds\"]] = weather_data[\"time\"].str.split(\n",
      "/home/maco/Documents/git-repos/WeatherProphet/utils.py:68: SettingWithCopyWarning: \n",
      "A value is trying to be set on a copy of a slice from a DataFrame.\n",
      "Try using .loc[row_indexer,col_indexer] = value instead\n",
      "\n",
      "See the caveats in the documentation: https://pandas.pydata.org/pandas-docs/stable/user_guide/indexing.html#returning-a-view-versus-a-copy\n",
      "  weather_data[[\"hour\", \"minutes\", \"seconds\"]] = weather_data[\"time\"].str.split(\n",
      "/home/maco/Documents/git-repos/WeatherProphet/utils.py:68: SettingWithCopyWarning: \n",
      "A value is trying to be set on a copy of a slice from a DataFrame.\n",
      "Try using .loc[row_indexer,col_indexer] = value instead\n",
      "\n",
      "See the caveats in the documentation: https://pandas.pydata.org/pandas-docs/stable/user_guide/indexing.html#returning-a-view-versus-a-copy\n",
      "  weather_data[[\"hour\", \"minutes\", \"seconds\"]] = weather_data[\"time\"].str.split(\n",
      "/home/maco/Documents/git-repos/WeatherProphet/utils.py:71: SettingWithCopyWarning: \n",
      "A value is trying to be set on a copy of a slice from a DataFrame.\n",
      "Try using .loc[row_indexer,col_indexer] = value instead\n",
      "\n",
      "See the caveats in the documentation: https://pandas.pydata.org/pandas-docs/stable/user_guide/indexing.html#returning-a-view-versus-a-copy\n",
      "  weather_data[[\"hour\", \"minutes\", \"seconds\"]] = weather_data[\n",
      "/home/maco/Documents/git-repos/WeatherProphet/utils.py:35: SettingWithCopyWarning: \n",
      "A value is trying to be set on a copy of a slice from a DataFrame.\n",
      "Try using .loc[row_indexer,col_indexer] = value instead\n",
      "\n",
      "See the caveats in the documentation: https://pandas.pydata.org/pandas-docs/stable/user_guide/indexing.html#returning-a-view-versus-a-copy\n",
      "  weather_data[\"next_T\"] = weather_data[\"T\"].shift(-1)\n",
      "/home/maco/Documents/git-repos/WeatherProphet/utils.py:92: SettingWithCopyWarning: \n",
      "A value is trying to be set on a copy of a slice from a DataFrame.\n",
      "Try using .loc[row_indexer,col_indexer] = value instead\n",
      "\n",
      "See the caveats in the documentation: https://pandas.pydata.org/pandas-docs/stable/user_guide/indexing.html#returning-a-view-versus-a-copy\n",
      "  weather_data[\"sin_day_of_year\"] = np.sin(\n",
      "/home/maco/Documents/git-repos/WeatherProphet/utils.py:95: SettingWithCopyWarning: \n",
      "A value is trying to be set on a copy of a slice from a DataFrame.\n",
      "Try using .loc[row_indexer,col_indexer] = value instead\n",
      "\n",
      "See the caveats in the documentation: https://pandas.pydata.org/pandas-docs/stable/user_guide/indexing.html#returning-a-view-versus-a-copy\n",
      "  weather_data[\"cos_day_of_year\"] = np.cos(\n",
      "/home/maco/Documents/git-repos/WeatherProphet/utils.py:98: SettingWithCopyWarning: \n",
      "A value is trying to be set on a copy of a slice from a DataFrame.\n",
      "Try using .loc[row_indexer,col_indexer] = value instead\n",
      "\n",
      "See the caveats in the documentation: https://pandas.pydata.org/pandas-docs/stable/user_guide/indexing.html#returning-a-view-versus-a-copy\n",
      "  weather_data[\"sin_hour\"] = np.sin(2 * np.pi * weather_data[\"hour\"] / 24)\n",
      "/home/maco/Documents/git-repos/WeatherProphet/utils.py:99: SettingWithCopyWarning: \n",
      "A value is trying to be set on a copy of a slice from a DataFrame.\n",
      "Try using .loc[row_indexer,col_indexer] = value instead\n",
      "\n",
      "See the caveats in the documentation: https://pandas.pydata.org/pandas-docs/stable/user_guide/indexing.html#returning-a-view-versus-a-copy\n",
      "  weather_data[\"cos_hour\"] = np.cos(2 * np.pi * weather_data[\"hour\"] / 24)\n",
      "/home/maco/Documents/git-repos/WeatherProphet/utils.py:83: SettingWithCopyWarning: \n",
      "A value is trying to be set on a copy of a slice from a DataFrame\n",
      "\n",
      "See the caveats in the documentation: https://pandas.pydata.org/pandas-docs/stable/user_guide/indexing.html#returning-a-view-versus-a-copy\n",
      "  weather_data.drop(\n"
     ]
    }
   ],
   "source": [
    "X, y = process_data(weather_data)"
   ]
  },
  {
   "cell_type": "code",
   "execution_count": 97,
   "metadata": {},
   "outputs": [],
   "source": [
    "mean, std = np.load(\"dataset/stat.npy\")"
   ]
  },
  {
   "cell_type": "code",
   "execution_count": 98,
   "metadata": {},
   "outputs": [],
   "source": [
    "X = (X - mean) / std"
   ]
  },
  {
   "cell_type": "code",
   "execution_count": 99,
   "metadata": {},
   "outputs": [
    {
     "data": {
      "text/plain": "     sin_day_of_year  cos_day_of_year  sin_hour  cos_hour        P0         T  \\\n0           0.724488        -1.241554 -0.000427  1.415490  0.544631 -0.296610   \n2           0.724488        -1.241554  0.365557  1.367297  0.544631 -0.296610   \n4           0.724488        -1.241554  0.706600  1.226002  0.683916 -0.409101   \n6           0.724488        -1.241554  0.999460  1.001235  0.683916 -0.296610   \n8           0.724488        -1.241554  1.224180  0.708312  0.683916 -0.409101   \n..               ...              ...       ...       ...       ...       ...   \n852         0.560688         1.282359 -1.366298  0.367197  1.554444 -0.971558   \n854         0.560688         1.282359 -1.225034  0.708312  1.554444 -0.971558   \n856         0.560688         1.282359 -1.000314  1.001235  1.537033 -1.196540   \n858         0.560688         1.282359 -0.707454  1.226002  1.537033 -1.196540   \n860         0.560688         1.282359 -0.366411  1.367297  1.676317 -1.084049   \n\n            U        Ff  \n0   -0.033131  0.110761  \n2   -0.033131  0.110761  \n4    0.243570 -0.334331  \n6   -0.033131 -0.334331  \n8    0.243570 -0.334331  \n..        ...       ...  \n852  0.852314 -0.779423  \n854  0.852314 -0.779423  \n856  1.184355 -0.334331  \n858  1.571737 -0.334331  \n860  0.852314 -0.779423  \n\n[431 rows x 8 columns]",
      "text/html": "<div>\n<style scoped>\n    .dataframe tbody tr th:only-of-type {\n        vertical-align: middle;\n    }\n\n    .dataframe tbody tr th {\n        vertical-align: top;\n    }\n\n    .dataframe thead th {\n        text-align: right;\n    }\n</style>\n<table border=\"1\" class=\"dataframe\">\n  <thead>\n    <tr style=\"text-align: right;\">\n      <th></th>\n      <th>sin_day_of_year</th>\n      <th>cos_day_of_year</th>\n      <th>sin_hour</th>\n      <th>cos_hour</th>\n      <th>P0</th>\n      <th>T</th>\n      <th>U</th>\n      <th>Ff</th>\n    </tr>\n  </thead>\n  <tbody>\n    <tr>\n      <th>0</th>\n      <td>0.724488</td>\n      <td>-1.241554</td>\n      <td>-0.000427</td>\n      <td>1.415490</td>\n      <td>0.544631</td>\n      <td>-0.296610</td>\n      <td>-0.033131</td>\n      <td>0.110761</td>\n    </tr>\n    <tr>\n      <th>2</th>\n      <td>0.724488</td>\n      <td>-1.241554</td>\n      <td>0.365557</td>\n      <td>1.367297</td>\n      <td>0.544631</td>\n      <td>-0.296610</td>\n      <td>-0.033131</td>\n      <td>0.110761</td>\n    </tr>\n    <tr>\n      <th>4</th>\n      <td>0.724488</td>\n      <td>-1.241554</td>\n      <td>0.706600</td>\n      <td>1.226002</td>\n      <td>0.683916</td>\n      <td>-0.409101</td>\n      <td>0.243570</td>\n      <td>-0.334331</td>\n    </tr>\n    <tr>\n      <th>6</th>\n      <td>0.724488</td>\n      <td>-1.241554</td>\n      <td>0.999460</td>\n      <td>1.001235</td>\n      <td>0.683916</td>\n      <td>-0.296610</td>\n      <td>-0.033131</td>\n      <td>-0.334331</td>\n    </tr>\n    <tr>\n      <th>8</th>\n      <td>0.724488</td>\n      <td>-1.241554</td>\n      <td>1.224180</td>\n      <td>0.708312</td>\n      <td>0.683916</td>\n      <td>-0.409101</td>\n      <td>0.243570</td>\n      <td>-0.334331</td>\n    </tr>\n    <tr>\n      <th>...</th>\n      <td>...</td>\n      <td>...</td>\n      <td>...</td>\n      <td>...</td>\n      <td>...</td>\n      <td>...</td>\n      <td>...</td>\n      <td>...</td>\n    </tr>\n    <tr>\n      <th>852</th>\n      <td>0.560688</td>\n      <td>1.282359</td>\n      <td>-1.366298</td>\n      <td>0.367197</td>\n      <td>1.554444</td>\n      <td>-0.971558</td>\n      <td>0.852314</td>\n      <td>-0.779423</td>\n    </tr>\n    <tr>\n      <th>854</th>\n      <td>0.560688</td>\n      <td>1.282359</td>\n      <td>-1.225034</td>\n      <td>0.708312</td>\n      <td>1.554444</td>\n      <td>-0.971558</td>\n      <td>0.852314</td>\n      <td>-0.779423</td>\n    </tr>\n    <tr>\n      <th>856</th>\n      <td>0.560688</td>\n      <td>1.282359</td>\n      <td>-1.000314</td>\n      <td>1.001235</td>\n      <td>1.537033</td>\n      <td>-1.196540</td>\n      <td>1.184355</td>\n      <td>-0.334331</td>\n    </tr>\n    <tr>\n      <th>858</th>\n      <td>0.560688</td>\n      <td>1.282359</td>\n      <td>-0.707454</td>\n      <td>1.226002</td>\n      <td>1.537033</td>\n      <td>-1.196540</td>\n      <td>1.571737</td>\n      <td>-0.334331</td>\n    </tr>\n    <tr>\n      <th>860</th>\n      <td>0.560688</td>\n      <td>1.282359</td>\n      <td>-0.366411</td>\n      <td>1.367297</td>\n      <td>1.676317</td>\n      <td>-1.084049</td>\n      <td>0.852314</td>\n      <td>-0.779423</td>\n    </tr>\n  </tbody>\n</table>\n<p>431 rows × 8 columns</p>\n</div>"
     },
     "execution_count": 99,
     "metadata": {},
     "output_type": "execute_result"
    }
   ],
   "source": [
    "X"
   ]
  },
  {
   "cell_type": "code",
   "execution_count": 100,
   "metadata": {},
   "outputs": [
    {
     "data": {
      "text/plain": "0      9.0\n2      8.0\n4      9.0\n6      8.0\n8      8.0\n      ... \n852    3.0\n854    1.0\n856    1.0\n858    2.0\n860    NaN\nName: next_T, Length: 431, dtype: float64"
     },
     "execution_count": 100,
     "metadata": {},
     "output_type": "execute_result"
    }
   ],
   "source": [
    "y"
   ]
  },
  {
   "cell_type": "code",
   "execution_count": 101,
   "metadata": {},
   "outputs": [],
   "source": [
    "X, y = X.to_numpy()[:-1], y.to_numpy()[:-1]"
   ]
  },
  {
   "cell_type": "code",
   "execution_count": 102,
   "outputs": [],
   "source": [
    "a = []\n",
    "b = []\n",
    "for i in range(12):\n",
    "    idx = 120+i\n",
    "    a.append(X[idx: idx+6])\n",
    "    b.append(y[idx + 6])"
   ],
   "metadata": {
    "collapsed": false
   }
  },
  {
   "cell_type": "code",
   "execution_count": 103,
   "outputs": [],
   "source": [
    "y1 = np.asarray(b)"
   ],
   "metadata": {
    "collapsed": false
   }
  },
  {
   "cell_type": "code",
   "execution_count": 104,
   "outputs": [
    {
     "data": {
      "text/plain": "(12,)"
     },
     "execution_count": 104,
     "metadata": {},
     "output_type": "execute_result"
    }
   ],
   "source": [
    "y1.shape"
   ],
   "metadata": {
    "collapsed": false
   }
  },
  {
   "cell_type": "code",
   "execution_count": 105,
   "outputs": [],
   "source": [
    "x1 = np.asarray(a)"
   ],
   "metadata": {
    "collapsed": false
   }
  },
  {
   "cell_type": "code",
   "execution_count": 106,
   "outputs": [
    {
     "data": {
      "text/plain": "(12, 6, 8)"
     },
     "execution_count": 106,
     "metadata": {},
     "output_type": "execute_result"
    }
   ],
   "source": [
    "x1.shape"
   ],
   "metadata": {
    "collapsed": false
   }
  },
  {
   "cell_type": "code",
   "execution_count": 108,
   "metadata": {},
   "outputs": [],
   "source": [
    "device = get_device()\n"
   ]
  },
  {
   "cell_type": "code",
   "execution_count": 109,
   "metadata": {},
   "outputs": [],
   "source": [
    "wp = torch.load('WP100-wtf_multistep3.pt')"
   ]
  },
  {
   "cell_type": "code",
   "execution_count": 110,
   "metadata": {},
   "outputs": [
    {
     "data": {
      "text/plain": "ClassicWeatherProphet(\n  (model): Sequential(\n    (0): Linear(in_features=48, out_features=64, bias=True)\n    (1): ReLU()\n    (2): Linear(in_features=64, out_features=64, bias=True)\n    (3): ReLU()\n    (4): Linear(in_features=64, out_features=1, bias=True)\n  )\n)"
     },
     "execution_count": 110,
     "metadata": {},
     "output_type": "execute_result"
    }
   ],
   "source": [
    "wp.to(device)"
   ]
  },
  {
   "cell_type": "code",
   "execution_count": 111,
   "metadata": {},
   "outputs": [
    {
     "data": {
      "text/plain": "ClassicWeatherProphet(\n  (model): Sequential(\n    (0): Linear(in_features=48, out_features=64, bias=True)\n    (1): ReLU()\n    (2): Linear(in_features=64, out_features=64, bias=True)\n    (3): ReLU()\n    (4): Linear(in_features=64, out_features=1, bias=True)\n  )\n)"
     },
     "execution_count": 111,
     "metadata": {},
     "output_type": "execute_result"
    }
   ],
   "source": [
    "wp.eval()"
   ]
  },
  {
   "cell_type": "code",
   "execution_count": 112,
   "metadata": {},
   "outputs": [],
   "source": [
    "X_features = torch.from_numpy(x1).float().to(device)"
   ]
  },
  {
   "cell_type": "code",
   "execution_count": 113,
   "metadata": {},
   "outputs": [
    {
     "data": {
      "text/plain": "torch.Size([12, 6, 8])"
     },
     "execution_count": 113,
     "metadata": {},
     "output_type": "execute_result"
    }
   ],
   "source": [
    "X_features.shape"
   ]
  },
  {
   "cell_type": "code",
   "execution_count": 114,
   "metadata": {},
   "outputs": [],
   "source": [
    "y_hat = wp(X_features)"
   ]
  },
  {
   "cell_type": "code",
   "execution_count": 115,
   "metadata": {},
   "outputs": [
    {
     "data": {
      "text/plain": "tensor([[[2.0000]],\n\n        [[2.0091]],\n\n        [[2.0433]],\n\n        [[1.9302]],\n\n        [[3.0050]],\n\n        [[6.0111]],\n\n        [[6.9826]],\n\n        [[9.0112]],\n\n        [[8.9930]],\n\n        [[9.0057]],\n\n        [[7.9988]],\n\n        [[6.0246]]], device='cuda:0', grad_fn=<ViewBackward0>)"
     },
     "execution_count": 115,
     "metadata": {},
     "output_type": "execute_result"
    }
   ],
   "source": [
    "y_hat"
   ]
  },
  {
   "cell_type": "code",
   "execution_count": 116,
   "metadata": {},
   "outputs": [
    {
     "data": {
      "text/plain": "array([ 9.,  8.,  9.,  8.,  8.,  8.,  7.,  6.,  8.,  8.,  9., 10., 10.,\n       10., 10.,  9.,  8.,  7.,  8.,  7.,  9., 10., 10., 10., 10., 10.,\n        9.,  9.,  7.,  9.,  8.,  8.,  6.,  9.,  9.,  9., 10., 10., 10.,\n        7.,  6.,  5.,  6.,  6.,  6.,  6.,  6.,  6.,  6.,  6.,  6.,  6.,\n        6.,  6.,  6.,  6.,  6.,  6.,  6.,  6.,  7.,  7.,  7.,  7.,  5.,\n        5.,  5.,  3.,  2.,  0.,  1.,  1.,  1.,  1.,  2.,  3.,  4.,  5.,\n        6.,  9.,  9.,  9.,  9.,  9.,  8.,  8.,  7.,  7.,  7.,  7.,  7.,\n        7.,  7.,  7.,  6.,  6.,  6.,  6.,  6.,  6.,  6.,  6.,  6.,  6.,\n        6.,  6.,  6.,  7.,  7.,  7.,  8.,  8.,  7.,  7.,  7.,  7.,  7.,\n        6.,  6.,  6.,  5.,  5.,  5.,  4.,  2.,  2.,  2.,  2.,  3.,  6.,\n        7.,  9.,  9.,  9.,  8.,  6.,  6.,  5.,  4.,  4.,  4.,  5.,  4.,\n        4.,  4.,  3.,  3.,  3.,  3.,  3.,  3.,  3.,  3.,  6.,  9., 11.,\n       11., 12., 11.,  8.,  8.,  8.,  7.,  5.,  4.,  4.,  4.,  3.,  3.,\n        3.,  2.,  2.,  2.,  1.,  1.,  2.,  3.,  3.,  4.,  5.,  6.,  6.,\n        6.,  6.,  5.,  5.,  5.,  4.,  5.,  4.,  4.,  3.,  2.,  2.,  0.,\n        3.,  6.,  6.,  6.,  5.,  4.,  8.,  9.,  9., 10., 11., 11.,  9.,\n        5.,  4.,  5.,  6.,  4.,  4.,  5.,  6.,  5.,  3.,  4.,  4.,  2.,\n        2.,  3.,  2.,  3.,  4.,  4.,  5.,  6.,  5.,  5.,  5.,  5.,  5.,\n        5.,  6.,  7.,  6.,  6.,  5.,  5.,  5.,  5.,  5.,  4.,  3.,  4.,\n        4.,  4.,  4.,  4.,  4.,  4.,  4.,  4.,  4.,  4.,  4.,  4.,  3.,\n        3.,  3.,  3.,  3.,  2.,  2.,  2.,  3.,  3.,  2.,  2.,  1.,  2.,\n        3.,  5.,  7.,  7.,  6.,  5.,  5.,  4.,  4.,  3.,  3.,  3.,  3.,\n        3.,  3.,  3.,  3.,  3.,  3.,  3.,  3.,  3.,  4.,  4.,  5.,  6.,\n        7.,  7.,  7.,  6.,  5.,  5.,  5.,  4.,  4.,  3.,  4.,  4.,  4.,\n        4.,  4.,  3.,  3.,  3.,  3.,  3.,  3.,  3.,  3.,  3.,  3.,  3.,\n        3.,  3.,  2.,  2.,  2.,  1.,  1.,  1.,  0., -1., -1., -1., -2.,\n       -1., -2., -1., -1., -1.,  0.,  0.,  0.,  0.,  1.,  1.,  2.,  2.,\n        2.,  2.,  2.,  2.,  1.,  1.,  0.,  0.,  0.,  0.,  1.,  1.,  1.,\n        0.,  0.,  0.,  0.,  1.,  1.,  1.,  1.,  2.,  1.,  1.,  1.,  1.,\n        1.,  1.,  1.,  1.,  1.,  1.,  1.,  1.,  1.,  1.,  1.,  0.,  0.,\n        0.,  0.,  0.,  1.,  1.,  1.,  1.,  1.,  1.,  1.,  1.,  1.,  1.,\n        1.,  1.,  2.,  2.,  2.,  2.,  2.,  1.,  1.,  2.,  1.,  2.,  2.,\n        2.,  3.,  4.,  5.,  5.,  6.,  5.,  3.,  3.,  3.,  3.,  1.,  1.,\n        2.])"
     },
     "execution_count": 116,
     "metadata": {},
     "output_type": "execute_result"
    }
   ],
   "source": [
    "y"
   ]
  }
 ],
 "metadata": {
  "kernelspec": {
   "display_name": "masters",
   "language": "python",
   "name": "python3"
  },
  "language_info": {
   "codemirror_mode": {
    "name": "ipython",
    "version": 3
   },
   "file_extension": ".py",
   "mimetype": "text/x-python",
   "name": "python",
   "nbconvert_exporter": "python",
   "pygments_lexer": "ipython3",
   "version": "3.10.6"
  },
  "orig_nbformat": 4,
  "vscode": {
   "interpreter": {
    "hash": "bb7fab73ff06782fdb7c893c145e9fed38cd61fdac306d5e7822b4090927a99a"
   }
  }
 },
 "nbformat": 4,
 "nbformat_minor": 2
}
