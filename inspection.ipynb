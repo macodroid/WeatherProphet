{
 "cells": [
  {
   "cell_type": "code",
   "execution_count": 11,
   "metadata": {},
   "outputs": [],
   "source": [
    "import numpy as np\n",
    "import pandas as pd\n",
    "import seaborn as sns"
   ]
  },
  {
   "cell_type": "code",
   "execution_count": 2,
   "metadata": {},
   "outputs": [],
   "source": [
    "train_features = np.load(\"dataset/train_features.npy\")\n",
    "train_labels = np.load(\"dataset/train_labels.npy\")\n",
    "\n",
    "val_features = np.load(\"dataset/val_features.npy\")\n",
    "val_labels = np.load(\"dataset/val_labels.npy\")\n",
    "\n",
    "test_features = np.load(\"dataset/test_features.npy\")\n",
    "test_labels = np.load(\"dataset/test_labels.npy\")\n",
    "\n",
    "mean, std = np.load(\"dataset/stat.npy\")"
   ]
  },
  {
   "cell_type": "code",
   "execution_count": 3,
   "metadata": {},
   "outputs": [
    {
     "data": {
      "text/plain": [
       "(72119, 8)"
      ]
     },
     "execution_count": 3,
     "metadata": {},
     "output_type": "execute_result"
    }
   ],
   "source": [
    "train_features.shape"
   ]
  },
  {
   "cell_type": "code",
   "execution_count": 4,
   "metadata": {},
   "outputs": [],
   "source": [
    "corr = np.corrcoef(train_features.T)"
   ]
  },
  {
   "cell_type": "code",
   "execution_count": 8,
   "metadata": {},
   "outputs": [
    {
     "data": {
      "text/plain": [
       "array([[ 1.00000000e+00, -1.12699615e-02, -4.06069608e-04,\n",
       "         5.28032714e-04, -7.14925647e-02, -1.42795283e-01,\n",
       "        -9.60701893e-02,  8.10667532e-02],\n",
       "       [-1.12699615e-02,  1.00000000e+00, -4.64864753e-04,\n",
       "         1.24327794e-04,  7.73317215e-02, -4.97843425e-01,\n",
       "         2.74621887e-01,  1.57271618e-03],\n",
       "       [-4.06069608e-04, -4.64864753e-04,  1.00000000e+00,\n",
       "         5.54863058e-05,  2.20939589e-02, -1.73062473e-01,\n",
       "         2.98556415e-01, -8.32586274e-02],\n",
       "       [ 5.28032714e-04,  1.24327794e-04,  5.54863058e-05,\n",
       "         1.00000000e+00, -1.92337578e-02, -1.91494570e-01,\n",
       "         3.45936807e-01, -2.09269092e-01],\n",
       "       [-7.14925647e-02,  7.73317215e-02,  2.20939589e-02,\n",
       "        -1.92337578e-02,  1.00000000e+00, -1.28717017e-01,\n",
       "        -4.37599461e-02, -1.66514170e-01],\n",
       "       [-1.42795283e-01, -4.97843425e-01, -1.73062473e-01,\n",
       "        -1.91494570e-01, -1.28717017e-01,  1.00000000e+00,\n",
       "        -5.79703515e-01,  2.17392128e-02],\n",
       "       [-9.60701893e-02,  2.74621887e-01,  2.98556415e-01,\n",
       "         3.45936807e-01, -4.37599461e-02, -5.79703515e-01,\n",
       "         1.00000000e+00, -2.45510668e-01],\n",
       "       [ 8.10667532e-02,  1.57271618e-03, -8.32586274e-02,\n",
       "        -2.09269092e-01, -1.66514170e-01,  2.17392128e-02,\n",
       "        -2.45510668e-01,  1.00000000e+00]])"
      ]
     },
     "execution_count": 8,
     "metadata": {},
     "output_type": "execute_result"
    }
   ],
   "source": [
    "corr"
   ]
  },
  {
   "cell_type": "code",
   "execution_count": 12,
   "metadata": {},
   "outputs": [
    {
     "data": {
      "text/plain": [
       "<AxesSubplot: >"
      ]
     },
     "execution_count": 12,
     "metadata": {},
     "output_type": "execute_result"
    },
    {
     "data": {
      "image/png": "[encoded data removed]",
      "text/plain": [
       "<Figure size 640x480 with 2 Axes>"
      ]
     },
     "metadata": {},
     "output_type": "display_data"
    }
   ],
   "source": [
    "sns.heatmap(corr, cmap='coolwarm')"
   ]
  },
  {
   "cell_type": "code",
   "execution_count": 14,
   "metadata": {},
   "outputs": [],
   "source": [
    "import torch\n",
    "\n",
    "\n",
    "model = torch.load('WP200-mlp1hidden.pt')"
   ]
  },
  {
   "cell_type": "code",
   "execution_count": 15,
   "metadata": {},
   "outputs": [
    {
     "data": {
      "text/plain": [
       "ClassicWeatherProphet(\n",
       "  (model): Sequential(\n",
       "    (0): Linear(in_features=24, out_features=64, bias=True)\n",
       "    (1): ReLU()\n",
       "    (2): Linear(in_features=64, out_features=64, bias=True)\n",
       "    (3): ReLU()\n",
       "    (4): Linear(in_features=64, out_features=1, bias=True)\n",
       "  )\n",
       ")"
      ]
     },
     "execution_count": 15,
     "metadata": {},
     "output_type": "execute_result"
    }
   ],
   "source": [
    "model.eval()"
   ]
  },
  {
   "cell_type": "code",
   "execution_count": null,
   "metadata": {},
   "outputs": [],
   "source": [
    "mean."
   ]
  }
 ],
 "metadata": {
  "kernelspec": {
   "display_name": "weather_prophet",
   "language": "python",
   "name": "python3"
  },
  "language_info": {
   "codemirror_mode": {
    "name": "ipython",
    "version": 3
   },
   "file_extension": ".py",
   "mimetype": "text/x-python",
   "name": "python",
   "nbconvert_exporter": "python",
   "pygments_lexer": "ipython3",
   "version": "3.10.9 (main, Jan 11 2023, 15:21:40) [GCC 11.2.0]"
  },
  "orig_nbformat": 4,
  "vscode": {
   "interpreter": {
    "hash": "c21f29f0cf615e4a31aec596abf0aac77b58cce41fe971d0908bb4c9715d0889"
   }
  }
 },
 "nbformat": 4,
 "nbformat_minor": 2
}
